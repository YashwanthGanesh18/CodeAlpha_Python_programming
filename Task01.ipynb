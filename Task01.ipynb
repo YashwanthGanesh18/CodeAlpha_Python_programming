{
 "cells": [
  {
   "cell_type": "code",
   "execution_count": null,
   "metadata": {
    "vscode": {
     "languageId": "plaintext"
    }
   },
   "outputs": [],
   "source": [
    "import random\n",
    "import string\n",
    "\n",
    "def hangman():\n",
    "\n",
    "\n",
    "    words = [\"apple\", \"banana\", \"orange\", \"pear\", \"grape\"]\n",
    "    word = random.choice(words)\n",
    "\n",
    "    guesses = []\n",
    "    max_attempts = 6\n",
    "\n",
    "    while max_attempts > 0:\n",
    "        print(\"Current word:\", \"\".join([\"_\" if letter not in guesses else letter for letter in word]))\n",
    "        print(\"You have\", max_attempts, \"attempts left.\")\n",
    "\n",
    "        guess = input(\"Enter a letter: \").lower()\n",
    "\n",
    "        if guess in string.ascii_lowercase and len(guess) == 1:\n",
    "            if guess in guesses:\n",
    "                print(\"You already guessed that letter.\")\n",
    "            elif guess in word:\n",
    "                guesses.append(guess)\n",
    "                print(\"Correct guess!\")\n",
    "                if all(letter in guesses for letter in word):\n",
    "                    print(\"Congratulations! You won.\")\n",
    "                    break\n",
    "            else:\n",
    "                max_attempts -= 1\n",
    "                print(\"Incorrect guess.\")\n",
    "        else:\n",
    "            print(\"Invalid input. Please enter a single letter.\")\n",
    "\n",
    "    if max_attempts == 0:\n",
    "        print(\"Game over. The word was:\", word)\n",
    "\n",
    "if __name__ == \"__main__\":\n",
    "    hangman()"
   ]
  }
 ],
 "metadata": {
  "language_info": {
   "name": "python"
  }
 },
 "nbformat": 4,
 "nbformat_minor": 2
}

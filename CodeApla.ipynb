{
 "cells": [
  {
   "cell_type": "markdown",
   "id": "0128c9ab-fe83-4ac5-a710-6a363444bfa0",
   "metadata": {
    "jp-MarkdownHeadingCollapsed": true
   },
   "source": [
    "Code_Apha_Intern-Task"
   ]
  },
  {
   "cell_type": "markdown",
   "id": "370f9618-2f2d-44c0-8401-ccf22a3aa386",
   "metadata": {},
   "source": [
    "TASK-01"
   ]
  },
  {
   "cell_type": "code",
   "execution_count": 1,
   "id": "d41bbeee-b1f9-466e-b86e-e6aaf7dc6c11",
   "metadata": {
    "scrolled": true
   },
   "outputs": [
    {
     "name": "stdout",
     "output_type": "stream",
     "text": [
      "Current word: ____\n",
      "You have 6 attempts left.\n"
     ]
    },
    {
     "name": "stdin",
     "output_type": "stream",
     "text": [
      "Enter a letter:  a\n"
     ]
    },
    {
     "name": "stdout",
     "output_type": "stream",
     "text": [
      "Correct guess!\n",
      "Current word: __a_\n",
      "You have 6 attempts left.\n"
     ]
    },
    {
     "name": "stdin",
     "output_type": "stream",
     "text": [
      "Enter a letter:  b\n"
     ]
    },
    {
     "name": "stdout",
     "output_type": "stream",
     "text": [
      "Incorrect guess.\n",
      "Current word: __a_\n",
      "You have 5 attempts left.\n"
     ]
    },
    {
     "name": "stdin",
     "output_type": "stream",
     "text": [
      "Enter a letter:  n\n"
     ]
    },
    {
     "name": "stdout",
     "output_type": "stream",
     "text": [
      "Incorrect guess.\n",
      "Current word: __a_\n",
      "You have 4 attempts left.\n"
     ]
    },
    {
     "name": "stdin",
     "output_type": "stream",
     "text": [
      "Enter a letter:  apple\n"
     ]
    },
    {
     "name": "stdout",
     "output_type": "stream",
     "text": [
      "Invalid input. Please enter a single letter.\n",
      "Current word: __a_\n",
      "You have 4 attempts left.\n"
     ]
    },
    {
     "name": "stdin",
     "output_type": "stream",
     "text": [
      "Enter a letter:  a\n"
     ]
    },
    {
     "name": "stdout",
     "output_type": "stream",
     "text": [
      "You already guessed that letter.\n",
      "Current word: __a_\n",
      "You have 4 attempts left.\n"
     ]
    },
    {
     "name": "stdin",
     "output_type": "stream",
     "text": [
      "Enter a letter:  N\n"
     ]
    },
    {
     "name": "stdout",
     "output_type": "stream",
     "text": [
      "Incorrect guess.\n",
      "Current word: __a_\n",
      "You have 3 attempts left.\n"
     ]
    },
    {
     "name": "stdin",
     "output_type": "stream",
     "text": [
      "Enter a letter:  C\n"
     ]
    },
    {
     "name": "stdout",
     "output_type": "stream",
     "text": [
      "Incorrect guess.\n",
      "Current word: __a_\n",
      "You have 2 attempts left.\n"
     ]
    },
    {
     "name": "stdin",
     "output_type": "stream",
     "text": [
      "Enter a letter:  E\n"
     ]
    },
    {
     "name": "stdout",
     "output_type": "stream",
     "text": [
      "Correct guess!\n",
      "Current word: _ea_\n",
      "You have 2 attempts left.\n"
     ]
    },
    {
     "name": "stdin",
     "output_type": "stream",
     "text": [
      "Enter a letter:  F\n"
     ]
    },
    {
     "name": "stdout",
     "output_type": "stream",
     "text": [
      "Incorrect guess.\n",
      "Current word: _ea_\n",
      "You have 1 attempts left.\n"
     ]
    },
    {
     "name": "stdin",
     "output_type": "stream",
     "text": [
      "Enter a letter:  G\n"
     ]
    },
    {
     "name": "stdout",
     "output_type": "stream",
     "text": [
      "Incorrect guess.\n",
      "Game over. The word was: pear\n"
     ]
    }
   ],
   "source": [
    "import random\n",
    "import string\n",
    "\n",
    "def hangman():\n",
    "\n",
    "\n",
    "    words = [\"apple\", \"banana\", \"orange\", \"pear\", \"grape\"]\n",
    "    word = random.choice(words)\n",
    "\n",
    "    guesses = []\n",
    "    max_attempts = 6\n",
    "\n",
    "    while max_attempts > 0:\n",
    "        print(\"Current word:\", \"\".join([\"_\" if letter not in guesses else letter for letter in word]))\n",
    "        print(\"You have\", max_attempts, \"attempts left.\")\n",
    "\n",
    "        guess = input(\"Enter a letter: \").lower()\n",
    "\n",
    "        if guess in string.ascii_lowercase and len(guess) == 1:\n",
    "            if guess in guesses:\n",
    "                print(\"You already guessed that letter.\")\n",
    "            elif guess in word:\n",
    "                guesses.append(guess)\n",
    "                print(\"Correct guess!\")\n",
    "                if all(letter in guesses for letter in word):\n",
    "                    print(\"Congratulations! You won.\")\n",
    "                    break\n",
    "            else:\n",
    "                max_attempts -= 1\n",
    "                print(\"Incorrect guess.\")\n",
    "        else:\n",
    "            print(\"Invalid input. Please enter a single letter.\")\n",
    "\n",
    "    if max_attempts == 0:\n",
    "        print(\"Game over. The word was:\", word)\n",
    "\n",
    "if __name__ == \"__main__\":\n",
    "    hangman()"
   ]
  },
  {
   "cell_type": "code",
   "execution_count": null,
   "id": "b061cdc2-30ad-4bfa-8868-e21c3167157d",
   "metadata": {},
   "outputs": [],
   "source": []
  },
  {
   "cell_type": "code",
   "execution_count": null,
   "id": "a890f0f0-e9aa-433e-bc42-dc64a476ca46",
   "metadata": {},
   "outputs": [],
   "source": []
  },
  {
   "cell_type": "code",
   "execution_count": null,
   "id": "38cf5b27-990a-4591-83fa-7d58954aca11",
   "metadata": {},
   "outputs": [],
   "source": []
  },
  {
   "cell_type": "markdown",
   "id": "38d0ed33-3ac3-492e-820b-8a0cda367b67",
   "metadata": {},
   "source": [
    "TASK-03"
   ]
  },
  {
   "cell_type": "code",
   "execution_count": 19,
   "id": "a2ccaea5-f69b-4c5c-b7bb-bdea14662ad0",
   "metadata": {},
   "outputs": [
    {
     "name": "stderr",
     "output_type": "stream",
     "text": [
      "[nltk_data] Downloading package punkt to\n",
      "[nltk_data]     C:\\Users\\BROWNY\\AppData\\Roaming\\nltk_data...\n",
      "[nltk_data]   Package punkt is already up-to-date!\n",
      "[nltk_data] Downloading package stopwords to\n",
      "[nltk_data]     C:\\Users\\BROWNY\\AppData\\Roaming\\nltk_data...\n",
      "[nltk_data]   Package stopwords is already up-to-date!\n"
     ]
    },
    {
     "ename": "KeyboardInterrupt",
     "evalue": "Interrupted by user",
     "output_type": "error",
     "traceback": [
      "\u001b[1;31m---------------------------------------------------------------------------\u001b[0m",
      "\u001b[1;31mKeyboardInterrupt\u001b[0m                         Traceback (most recent call last)",
      "Cell \u001b[1;32mIn[19], line 53\u001b[0m\n\u001b[0;32m     51\u001b[0m \u001b[38;5;28;01mif\u001b[39;00m \u001b[38;5;18m__name__\u001b[39m \u001b[38;5;241m==\u001b[39m \u001b[38;5;124m\"\u001b[39m\u001b[38;5;124m__main__\u001b[39m\u001b[38;5;124m\"\u001b[39m:\n\u001b[0;32m     52\u001b[0m     \u001b[38;5;28;01mwhile\u001b[39;00m \u001b[38;5;28;01mTrue\u001b[39;00m:\n\u001b[1;32m---> 53\u001b[0m         user_input \u001b[38;5;241m=\u001b[39m \u001b[38;5;28minput\u001b[39m(\u001b[38;5;124m\"\u001b[39m\u001b[38;5;124mYou: \u001b[39m\u001b[38;5;124m\"\u001b[39m)\n\u001b[0;32m     54\u001b[0m         \u001b[38;5;28;01mif\u001b[39;00m user_input\u001b[38;5;241m.\u001b[39mlower() \u001b[38;5;241m==\u001b[39m \u001b[38;5;124m'\u001b[39m\u001b[38;5;124mquit\u001b[39m\u001b[38;5;124m'\u001b[39m:\n\u001b[0;32m     55\u001b[0m             \u001b[38;5;28;01mbreak\u001b[39;00m\n",
      "File \u001b[1;32mC:\\Program Files\\anaconda3\\Lib\\site-packages\\ipykernel\\kernelbase.py:1262\u001b[0m, in \u001b[0;36mKernel.raw_input\u001b[1;34m(self, prompt)\u001b[0m\n\u001b[0;32m   1260\u001b[0m     msg \u001b[38;5;241m=\u001b[39m \u001b[38;5;124m\"\u001b[39m\u001b[38;5;124mraw_input was called, but this frontend does not support input requests.\u001b[39m\u001b[38;5;124m\"\u001b[39m\n\u001b[0;32m   1261\u001b[0m     \u001b[38;5;28;01mraise\u001b[39;00m StdinNotImplementedError(msg)\n\u001b[1;32m-> 1262\u001b[0m \u001b[38;5;28;01mreturn\u001b[39;00m \u001b[38;5;28mself\u001b[39m\u001b[38;5;241m.\u001b[39m_input_request(\n\u001b[0;32m   1263\u001b[0m     \u001b[38;5;28mstr\u001b[39m(prompt),\n\u001b[0;32m   1264\u001b[0m     \u001b[38;5;28mself\u001b[39m\u001b[38;5;241m.\u001b[39m_parent_ident[\u001b[38;5;124m\"\u001b[39m\u001b[38;5;124mshell\u001b[39m\u001b[38;5;124m\"\u001b[39m],\n\u001b[0;32m   1265\u001b[0m     \u001b[38;5;28mself\u001b[39m\u001b[38;5;241m.\u001b[39mget_parent(\u001b[38;5;124m\"\u001b[39m\u001b[38;5;124mshell\u001b[39m\u001b[38;5;124m\"\u001b[39m),\n\u001b[0;32m   1266\u001b[0m     password\u001b[38;5;241m=\u001b[39m\u001b[38;5;28;01mFalse\u001b[39;00m,\n\u001b[0;32m   1267\u001b[0m )\n",
      "File \u001b[1;32mC:\\Program Files\\anaconda3\\Lib\\site-packages\\ipykernel\\kernelbase.py:1305\u001b[0m, in \u001b[0;36mKernel._input_request\u001b[1;34m(self, prompt, ident, parent, password)\u001b[0m\n\u001b[0;32m   1302\u001b[0m \u001b[38;5;28;01mexcept\u001b[39;00m \u001b[38;5;167;01mKeyboardInterrupt\u001b[39;00m:\n\u001b[0;32m   1303\u001b[0m     \u001b[38;5;66;03m# re-raise KeyboardInterrupt, to truncate traceback\u001b[39;00m\n\u001b[0;32m   1304\u001b[0m     msg \u001b[38;5;241m=\u001b[39m \u001b[38;5;124m\"\u001b[39m\u001b[38;5;124mInterrupted by user\u001b[39m\u001b[38;5;124m\"\u001b[39m\n\u001b[1;32m-> 1305\u001b[0m     \u001b[38;5;28;01mraise\u001b[39;00m \u001b[38;5;167;01mKeyboardInterrupt\u001b[39;00m(msg) \u001b[38;5;28;01mfrom\u001b[39;00m \u001b[38;5;28;01mNone\u001b[39;00m\n\u001b[0;32m   1306\u001b[0m \u001b[38;5;28;01mexcept\u001b[39;00m \u001b[38;5;167;01mException\u001b[39;00m:\n\u001b[0;32m   1307\u001b[0m     \u001b[38;5;28mself\u001b[39m\u001b[38;5;241m.\u001b[39mlog\u001b[38;5;241m.\u001b[39mwarning(\u001b[38;5;124m\"\u001b[39m\u001b[38;5;124mInvalid Message:\u001b[39m\u001b[38;5;124m\"\u001b[39m, exc_info\u001b[38;5;241m=\u001b[39m\u001b[38;5;28;01mTrue\u001b[39;00m)\n",
      "\u001b[1;31mKeyboardInterrupt\u001b[0m: Interrupted by user"
     ]
    }
   ],
   "source": [
    "import nltk\n",
    "from nltk.stem import PorterStemmer\n",
    "from nltk.tokenize import word_tokenize\n",
    "from nltk.corpus import stopwords\n",
    "from datetime import datetime\n",
    "\n",
    "nltk.download('punkt')\n",
    "nltk.download('stopwords')\n",
    "\n",
    "def chatbot(user_input):\n",
    "    \"\"\"\n",
    "    A chatbot that can have conversations with users.\n",
    "    \"\"\"\n",
    "\n",
    "    # Tokenize the user input\n",
    "    tokens = word_tokenize(user_input.lower())\n",
    "\n",
    "    # Remove stop words\n",
    "    stop_words = set(stopwords.words('english'))\n",
    "    filtered_tokens = [word for word in tokens if word not in stop_words]\n",
    "\n",
    "    # Stem the words\n",
    "    stemmer = PorterStemmer()\n",
    "    stemmed_tokens = [stemmer.stem(word) for word in filtered_tokens]\n",
    "\n",
    "    # Simple responses based on keywords\n",
    "    if 'hello' in stemmed_tokens or 'hi' in stemmed_tokens:\n",
    "        return \"Hello! I'm your friendly chatbot. How can I help you today?\"\n",
    "    elif 'how are you' in stemmed_tokens:\n",
    "        return \"I'm doing well, thanks for asking! How about you?\"\n",
    "    elif 'weather' in stemmed_tokens:\n",
    "        # Get current weather using an API (replace with your API key)\n",
    "        weather_api_key = \"YOUR_WEATHER_API_KEY\"\n",
    "        weather_url = f\"https://api.openweathermap.org/data/2.5/weather?q=Mumbai&appid={weather_api_key}\"\n",
    "        weather_response = requests.get(weather_url)\n",
    "        weather_data = weather_response.json()\n",
    "        temperature = weather_data['main']['temp']\n",
    "        description = weather_data['weather'][0]['description']\n",
    "        return f\"The current weather in Mumbai is {temperature} degrees Celsius and {description}.\"\n",
    "    elif 'news' in stemmed_tokens:\n",
    "        # Get top news headlines using an API (replace with your API key)\n",
    "        news_api_key = \"YOUR_NEWS_API_KEY\"\n",
    "        news_url = f\"https://newsapi.org/v2/top-headlines?country=in&apiKey={news_api_key}\"\n",
    "        news_response = requests.get(news_url)\n",
    "        news_data = news_response.json()\n",
    "        headlines = [article['title'] for article in news_data['articles']]\n",
    "        return f\"Here are the top news headlines:\\n{'\\n'.join(headlines)}\"\n",
    "    else:\n",
    "        return \"I'm still learning. Can you please rephrase your question?\"\n",
    "\n",
    "if __name__ == \"__main__\":\n",
    "    while True:\n",
    "        user_input = input(\"You: \")\n",
    "        if user_input.lower() == 'quit':\n",
    "            break\n",
    "        chatbot_response = chatbot(user_input)\n",
    "        print(\"Chatbot:\", chatbot_response)"
   ]
  },
  {
   "cell_type": "code",
   "execution_count": null,
   "id": "469963cc-beee-4fcc-8502-bb0a5f6c2e9e",
   "metadata": {},
   "outputs": [],
   "source": []
  },
  {
   "cell_type": "code",
   "execution_count": null,
   "id": "9b16df85-de6f-48ca-8277-ca70f0125366",
   "metadata": {},
   "outputs": [],
   "source": []
  },
  {
   "cell_type": "markdown",
   "id": "46ce76e0-eb04-4182-acc0-d892866c3a8c",
   "metadata": {},
   "source": [
    "TASK-04"
   ]
  },
  {
   "cell_type": "code",
   "execution_count": 18,
   "id": "f5dffb6d-6a34-4f38-a664-8052b0f52f49",
   "metadata": {},
   "outputs": [
    {
     "name": "stdout",
     "output_type": "stream",
     "text": [
      "Organized 60 image files.\n"
     ]
    }
   ],
   "source": [
    "import os\n",
    "import shutil\n",
    "\n",
    "def organize_images_by_date(source_dir):\n",
    "    \"\"\"Organizes image files in a directory by their creation date.\"\"\"\n",
    "\n",
    "    num_files_organized = 0\n",
    "    for filename in os.listdir(source_dir):\n",
    "        if filename.endswith(('.jpg', '.jpeg', '.png')):\n",
    "            file_path = os.path.join(source_dir, filename)\n",
    "            creation_time = os.path.getctime(file_path)\n",
    "            year = datetime.fromtimestamp(creation_time).year\n",
    "            month = datetime.fromtimestamp(creation_time).month\n",
    "            destination_dir = os.path.join(source_dir, f\"{year}-{month}\")\n",
    "            if not os.path.exists(destination_dir):\n",
    "                os.makedirs(destination_dir)\n",
    "            shutil.move(file_path, destination_dir)\n",
    "            num_files_organized += 1\n",
    "\n",
    "    print(f\"Organized {num_files_organized} image files.\")\n",
    "\n",
    "source_dir = r\"C:\\Users\\BROWNY\\OneDrive\\Pictures\\my browny Boy\"\n",
    "organize_images_by_date(source_dir)"
   ]
  },
  {
   "cell_type": "code",
   "execution_count": null,
   "id": "8c247c22-71b6-4616-b0c4-75d16a4298a3",
   "metadata": {},
   "outputs": [],
   "source": []
  },
  {
   "cell_type": "code",
   "execution_count": null,
   "id": "ddeda484-f0e5-4f45-8cdf-e4c80a347d2b",
   "metadata": {},
   "outputs": [],
   "source": []
  }
 ],
 "metadata": {
  "kernelspec": {
   "display_name": "Python 3 (ipykernel)",
   "language": "python",
   "name": "python3"
  },
  "language_info": {
   "codemirror_mode": {
    "name": "ipython",
    "version": 3
   },
   "file_extension": ".py",
   "mimetype": "text/x-python",
   "name": "python",
   "nbconvert_exporter": "python",
   "pygments_lexer": "ipython3",
   "version": "3.12.4"
  }
 },
 "nbformat": 4,
 "nbformat_minor": 5
}

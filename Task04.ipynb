{
 "cells": [
  {
   "cell_type": "code",
   "execution_count": null,
   "metadata": {
    "vscode": {
     "languageId": "plaintext"
    }
   },
   "outputs": [],
   "source": [
    "import os\n",
    "import shutil\n",
    "\n",
    "def organize_images_by_date(source_dir):\n",
    "    \"\"\"Organizes image files in a directory by their creation date.\"\"\"\n",
    "\n",
    "    num_files_organized = 0\n",
    "    for filename in os.listdir(source_dir):\n",
    "        if filename.endswith(('.jpg', '.jpeg', '.png')):\n",
    "            file_path = os.path.join(source_dir, filename)\n",
    "            creation_time = os.path.getctime(file_path)\n",
    "            year = datetime.fromtimestamp(creation_time).year\n",
    "            month = datetime.fromtimestamp(creation_time).month\n",
    "            destination_dir = os.path.join(source_dir, f\"{year}-{month}\")\n",
    "            if not os.path.exists(destination_dir):\n",
    "                os.makedirs(destination_dir)\n",
    "            shutil.move(file_path, destination_dir)\n",
    "            num_files_organized += 1\n",
    "\n",
    "    print(f\"Organized {num_files_organized} image files.\")\n",
    "\n",
    "source_dir = r\"C:\\Users\\BROWNY\\OneDrive\\Pictures\\my browny Boy\"\n",
    "organize_images_by_date(source_dir)"
   ]
  }
 ],
 "metadata": {
  "language_info": {
   "name": "python"
  }
 },
 "nbformat": 4,
 "nbformat_minor": 2
}

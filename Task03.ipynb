{
 "cells": [
  {
   "cell_type": "code",
   "execution_count": null,
   "metadata": {
    "vscode": {
     "languageId": "plaintext"
    }
   },
   "outputs": [],
   "source": [
    "import nltk\n",
    "from nltk.stem import PorterStemmer\n",
    "from nltk.tokenize import word_tokenize\n",
    "from nltk.corpus import stopwords\n",
    "from datetime import datetime\n",
    "\n",
    "nltk.download('punkt')\n",
    "nltk.download('stopwords')\n",
    "\n",
    "def chatbot(user_input):\n",
    "    \"\"\"\n",
    "    A chatbot that can have conversations with users.\n",
    "    \"\"\"\n",
    "\n",
    "    # Tokenize the user input\n",
    "    tokens = word_tokenize(user_input.lower())\n",
    "\n",
    "    # Remove stop words\n",
    "    stop_words = set(stopwords.words('english'))\n",
    "    filtered_tokens = [word for word in tokens if word not in stop_words]\n",
    "\n",
    "    # Stem the words\n",
    "    stemmer = PorterStemmer()\n",
    "    stemmed_tokens = [stemmer.stem(word) for word in filtered_tokens]\n",
    "\n",
    "    # Simple responses based on keywords\n",
    "    if 'hello' in stemmed_tokens or 'hi' in stemmed_tokens:\n",
    "        return \"Hello! I'm your friendly chatbot. How can I help you today?\"\n",
    "    elif 'how are you' in stemmed_tokens:\n",
    "        return \"I'm doing well, thanks for asking! How about you?\"\n",
    "    elif 'weather' in stemmed_tokens:\n",
    "        # Get current weather using an API (replace with your API key)\n",
    "        weather_api_key = \"YOUR_WEATHER_API_KEY\"\n",
    "        weather_url = f\"https://api.openweathermap.org/data/2.5/weather?q=Mumbai&appid={weather_api_key}\"\n",
    "        weather_response = requests.get(weather_url)\n",
    "        weather_data = weather_response.json()\n",
    "        temperature = weather_data['main']['temp']\n",
    "        description = weather_data['weather'][0]['description']\n",
    "        return f\"The current weather in Mumbai is {temperature} degrees Celsius and {description}.\"\n",
    "    elif 'news' in stemmed_tokens:\n",
    "        # Get top news headlines using an API (replace with your API key)\n",
    "        news_api_key = \"YOUR_NEWS_API_KEY\"\n",
    "        news_url = f\"https://newsapi.org/v2/top-headlines?country=in&apiKey={news_api_key}\"\n",
    "        news_response = requests.get(news_url)\n",
    "        news_data = news_response.json()\n",
    "        headlines = [article['title'] for article in news_data['articles']]\n",
    "        return f\"Here are the top news headlines:\\n{'\\n'.join(headlines)}\"\n",
    "    else:\n",
    "        return \"I'm still learning. Can you please rephrase your question?\"\n",
    "\n",
    "if __name__ == \"__main__\":\n",
    "    while True:\n",
    "        user_input = input(\"You: \")\n",
    "        if user_input.lower() == 'quit':\n",
    "            break\n",
    "        chatbot_response = chatbot(user_input)\n",
    "        print(\"Chatbot:\", chatbot_response)"
   ]
  }
 ],
 "metadata": {
  "language_info": {
   "name": "python"
  }
 },
 "nbformat": 4,
 "nbformat_minor": 2
}
